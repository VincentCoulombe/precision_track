{
 "cells": [
  {
   "cell_type": "markdown",
   "id": "767df975",
   "metadata": {},
   "source": [
    "# Welcome to the PrecisionTrack Sanity Check Notebook\n",
    "\n",
    "![alt text](https://raw.githubusercontent.com/VincentCoulombe/precision_track/main/assets/logo.png)\n",
    "\n",
    "### In this notebook, you will:\n",
    "- Deploy a fresh PrecisionTrack system, tailored for the Colab's provided hardware.  \n",
    "- Track and analyze the behaviors of mice from the provided sanity check footage.  \n",
    "- Run tracking on the **MICE dataset** validation video.  \n",
    "- Visualize the results directly in the notebook.  \n",
    "\n",
    "\n",
    "**Note:**  \n",
    "To train your own PrecisionTrack checkpoints, please refer to our [tutorials](https://github.com/VincentCoulombe/precision_track/tree/main) and [configuration documentation](https://github.com/VincentCoulombe/precision_track/tree/main/configs).\n",
    "\n",
    "\n",
    "### Before you begin\n",
    "Ensure your Colab runtime is connected to a GPU:\n",
    "\n",
    "1. Click on **Runtime** in the menu bar.  \n",
    "2. Select **Change runtime type**.  \n",
    "3. Set the interpreter to **Python 3**.  \n",
    "4. Under **Hardware accelerator**, select **GPU**.  "
   ]
  },
  {
   "cell_type": "code",
   "execution_count": null,
   "id": "75736c9b",
   "metadata": {},
   "outputs": [],
   "source": [
    "import subprocess\n",
    "\n",
    "# First, determine if the machine is cuda accelerated (to determine which version of the virtual environment we are goind to build).\n",
    "\n",
    "try:\n",
    "    CUDA_ACCELERATED = subprocess.run(\"nvidia-smi\").returncode == 0\n",
    "except FileNotFoundError:\n",
    "    CUDA_ACCELERATED = False\n",
    "    print(\"Please follow the instructions in the cell above to CUDA-accelerate your instance.\")"
   ]
  },
  {
   "cell_type": "code",
   "execution_count": null,
   "id": "30132c46",
   "metadata": {},
   "outputs": [],
   "source": [
    "%%capture\n",
    "# Second, build PrecisionTrack's virtual environment.\n",
    "!git clone https://github.com/VincentCoulombe/precision_track.git\n",
    "%cd /content/precision_track/\n",
    "\n",
    "if CUDA_ACCELERATED:\n",
    "    !pip install torch==2.7.1 torchvision==0.22.1  --index-url https://download.pytorch.org/whl/cu128\n",
    "    !pip install -e .[cuda]\n",
    "else:\n",
    "    !pip install torch==2.7.1 torchvision==0.22.1  --index-url https://download.pytorch.org/whl/cpu\n",
    "    !pip install -e .[cpu]\n",
    "    \n",
    "!pip install gdown\n",
    "# NOTE: This took some time when I tried it (about 12 minutes). This is because Pytorch and PyCuda are both heavy, wheeled, depedencies.  "
   ]
  },
  {
   "cell_type": "code",
   "execution_count": null,
   "id": "b841ab30",
   "metadata": {},
   "outputs": [],
   "source": [
    "# This cell contains a custom helper function for visualizing video on the browser.\n",
    "from IPython.display import HTML\n",
    "from base64 import b64encode\n",
    "import subprocess\n",
    "\n",
    "\n",
    "def to_h264(video_path: str) -> tuple:\n",
    "    \"\"\"Convert the video codec to a browser-friendly one.\"\"\"\n",
    "    subprocess.run(\n",
    "        [\n",
    "            \"ffmpeg\",\n",
    "            \"-y\",\n",
    "            \"-i\",\n",
    "            video_path,\n",
    "            \"-c:v\",\n",
    "            \"libx264\",\n",
    "            \"-profile:v\",\n",
    "            \"baseline\",\n",
    "            \"-level\",\n",
    "            \"3.0\",\n",
    "            \"-pix_fmt\",\n",
    "            \"yuv420p\",\n",
    "            \"-movflags\",\n",
    "            \"+faststart\",\n",
    "            \"./visualization_h264.mp4\",\n",
    "        ],\n",
    "        check=True,\n",
    "    )\n",
    "\n",
    "    mp4 = open(\"./visualization_h264.mp4\", \"rb\").read()\n",
    "    return \"data:video/mp4;base64,\" + b64encode(mp4).decode()"
   ]
  },
  {
   "cell_type": "code",
   "execution_count": null,
   "id": "dc84e04f",
   "metadata": {},
   "outputs": [],
   "source": [
    "from pathlib import Path\n",
    "import os\n",
    "\n",
    "# Third, download the provided checkpoints and change the \"deployed_directory\" setting to a predefined directory.\n",
    "\n",
    "!mkdir -p /content/precision_track/checkpoints/model_mice/\n",
    "%cd /content/precision_track/checkpoints/model_mice/\n",
    "\n",
    "\n",
    "!gdown --id 17Up0YDRjNQp3mI75dKPtLPnIGDXkkCgm\n",
    "!gdown --id 1yr0CC0_EAZEBjqkzzGOULbTH_8wQ6bq1\n",
    "\n",
    "# NOTE: This step is done Programmatically here, but I encourage the users to do it manually. Please refer to our settings and workflow guides for more details.\n",
    "file = Path(os.path.abspath(\"/content/precision_track/configs/settings/mice.py\"))\n",
    "text = file.read_text()\n",
    "text = text.replace(\"../tests/configs/\", \"/content/precision_track/checkpoints/model_mice/\") # Change the deployment directory\n",
    "text = text.replace(\"../../datasets/mice/\", \"/content/precision_track/assets/\")\n",
    "text = text.replace(\"images/0000003435.jpg\", \"0000004668.jpg\")\n",
    "\n",
    "file.write_text(text)"
   ]
  },
  {
   "cell_type": "code",
   "execution_count": null,
   "id": "2d0e31bc",
   "metadata": {},
   "outputs": [],
   "source": [
    "import re\n",
    "from mmengine.logging import print_log\n",
    "from logging import WARNING\n",
    "\n",
    "# Fourth, deploy the pretrained PrecisionTrack's system. NOTE: Here we do not perform hyperparameter optimisation as they are already cached. This saves you some time.\n",
    "%cd /content/precision_track/tools/\n",
    "\n",
    "!python ./deploy.py false\n",
    "\n",
    "# Next, we'll register the newly deployed engines in our settings file.\n",
    "# NOTE: This step is done Programmatically here, but I encourage the users to do it manually instead (its way more intuitive). Please refer to our settings and workflow guides for more details.\n",
    "file = Path(\"/content/precision_track/configs/settings/mice.py\")\n",
    "text = file.read_text()\n",
    "\n",
    "# Dynamically update the engine settings.\n",
    "deployed_checkpoints = os.listdir(\"/content/precision_track/checkpoints/model_mice/\")\n",
    "default_runtimes = [\"model_mice_clustering_DEPLOYED.onnx\", \"mart_DEPLOYED.onnx\"]\n",
    "patterns = [r\"^model.*\\.engine$\", r\"^mart.*\\.engine$\"]\n",
    "engines = [None, None]\n",
    "\n",
    "for deployed_checkpoint in deployed_checkpoints:\n",
    "    for i, pattern in enumerate(patterns):\n",
    "        if re.search(pattern, deployed_checkpoint) is not None:\n",
    "            engines[i] = os.path.basename(deployed_checkpoint)\n",
    "\n",
    "for engine, default_runtime in zip(engines, default_runtimes):\n",
    "    if engine is None:\n",
    "        print_log(f\"The deployment was not sucessfull. falling back to the default runtime: {default_runtime}\", logger=\"current\", level=WARNING)\n",
    "    else:\n",
    "        print_log(f\"The following engine: '{engine}' is now available for you to download and possibly re-use in futur Colab instances.\", logger=\"current\")\n",
    "        text = text.replace(default_runtime, engine) # Point to the newly deployed engine\n",
    "\n",
    "file.write_text(text)"
   ]
  },
  {
   "cell_type": "markdown",
   "id": "35bd5a7d",
   "metadata": {},
   "source": [
    "# We are ready to go! \n",
    "\n",
    "We'll begin by tracking on the small sanity check video [provided with the repository](https://github.com/VincentCoulombe/precision_track/blob/main/assets/20mice_sanity_check.avi).\n",
    "\n",
    "### Before we start\n",
    "- We will use a pretrained checkpoint from the **MICE dataset**.  \n",
    "    - This checkpoint was optimized for a specific camera angle.  \n",
    "    - Using it on footage with different viewpoints and/or other species will likely produce nonsensical results.  \n",
    "    - To train a custom PrecisionTrack model for your own footage, please refer to the **\"Where to start?\"** section of our [README](https://github.com/VincentCoulombe/precision_track/tree/main).\n",
    "\n",
    "### Limitations when running on Colab\n",
    "- **Single-core execution:**  \n",
    "  Colab typically provides a single-core CPU. This disables our multi-processing pipelines.  \n",
    "  - For example, tracking and action recognition normally run in parallel on separate cores.  \n",
    "  - On modern local machines (e.g., mine with 8 cores), these processes execute simultaneously.  \n",
    "\n",
    "- **JiT compilation overhead:**  \n",
    "  Most heavy computations are **Just-in-Time (JiT) compiled**, which adds a fixed startup cost for each tracking session.  \n",
    "  - On longer videos, this overhead quickly becomes negligible.  \n",
    "  - To see this effect, you can also try tracking on our larger [validation video](https://drive.google.com/file/d/1z2PF7UlNBF2PudS3UP-cGejBIttbpZBm/view?usp=drive_link)."
   ]
  },
  {
   "cell_type": "code",
   "execution_count": null,
   "id": "b108aa15",
   "metadata": {},
   "outputs": [],
   "source": [
    "# First, Track via PrecisionTrack's tracking tool (yes, it is that simple).\n",
    "!python ./track.py ../assets/20mice_sanity_check.avi"
   ]
  },
  {
   "cell_type": "code",
   "execution_count": null,
   "id": "62d52860",
   "metadata": {},
   "outputs": [],
   "source": [
    "# Second, run PrecisionTrack's visualization tool.\n",
    "\n",
    "!python ./visualize.py ../assets/20mice_sanity_check.avi ./sanity_check_visualization.mp4\n",
    "\n",
    "# This will create the \"./sanity_check_visualization.mp4\" video. This video can be displayed by running this notebook's second to last cell. "
   ]
  },
  {
   "cell_type": "markdown",
   "id": "13215337",
   "metadata": {},
   "source": [
    "### Tracking on a longer video (without action recognition)\n",
    "\n",
    "To better demonstrate PrecisionTrack’s inference speed, we will track on a longer video **without inferring actions**.  \n",
    "\n",
    "\n",
    "#### Steps:\n",
    "1. Set `\"with_action_recognition\"` to **False** in the configuration file (**Done in the very next cell**).  \n",
    "   - You can refer to the [settings guide](https://github.com/VincentCoulombe/precision_track/tree/main/configs) for more details.  \n",
    "\n",
    "2. Download the longer [validation video](https://drive.google.com/file/d/1z2PF7UlNBF2PudS3UP-cGejBIttbpZBm/view?usp=drive_link) from the MICE sequential dataset (**Done one cell further down**).  \n"
   ]
  },
  {
   "cell_type": "code",
   "execution_count": null,
   "id": "23e5c2cb",
   "metadata": {},
   "outputs": [],
   "source": [
    "# First, change the \"with_action_recognition\" setting from \"True\" to \"False\".\n",
    "file = Path(\"../configs/settings/mice.py\")\n",
    "text = file.read_text()\n",
    "text = text.replace(\"with_action_recognition = True\", \"with_action_recognition = False\")\n",
    "file.write_text(text)"
   ]
  },
  {
   "cell_type": "code",
   "execution_count": null,
   "id": "5246387c",
   "metadata": {},
   "outputs": [],
   "source": [
    "# Second, download the MICE dataset's validation split.\n",
    "!gdown --id 1z2PF7UlNBF2PudS3UP-cGejBIttbpZBm"
   ]
  },
  {
   "cell_type": "code",
   "execution_count": null,
   "id": "fd854ffe",
   "metadata": {},
   "outputs": [],
   "source": [
    "# Third, rerun PrecisionTrack's tracking tool (now on the full 5 minutes validation footage).\n",
    "\n",
    "!rm -r ../work_dir/ # Remove previous results.\n",
    "\n",
    "!python ./track.py ./14-20-02.avi\n",
    "\n",
    "# NOTE 1: Although the FPS increased, the gain is still far below my expectations.\n",
    "\n",
    "# NOTE 2: Even when using the expensive 'A100' GPU option, tracking was considerably slower \n",
    "#         than on the several cheaper machines we are currently running PrecisionTrack on. \n",
    "#         I suspect this slowdown may be due to underclocked CPUs. \n",
    "\n",
    "# NOTE 3: After experimenting further, I conclude that the best option to reproduce our \n",
    "#         latency results is to run PrecisionTrack locally on a machine matching the\n",
    "#         specifications listed in the publication's \"Computational Resource Usage\" section. \n",
    "#         Building such a workstation (a clone of my personal setup) should cost around $1.5k.\n",
    "#         To install locally, please refer to our Installation guide. "
   ]
  },
  {
   "cell_type": "code",
   "execution_count": null,
   "id": "e0bfaafb",
   "metadata": {},
   "outputs": [],
   "source": [
    "# Fourth, run PrecisionTrack's visualization tool.\n",
    "\n",
    "!python ./visualize.py ./14-20-02.avi ./val_split_visualization.mp4\n",
    "\n",
    "# This will create the \"./val_split_visualization.mp4\" video. This video can be displayed by running this notebook's last cell. \n",
    "\n",
    "# NOTE: For some reason, the same exact rendering process is about 10x slower here than on our local machines."
   ]
  },
  {
   "cell_type": "markdown",
   "id": "27869294",
   "metadata": {},
   "source": [
    "### Visualization\n",
    "\n",
    "Run the next two cells to display the predictions on the sanity check footage and the validation footage, respectively.\n"
   ]
  },
  {
   "cell_type": "code",
   "execution_count": null,
   "id": "225486ad",
   "metadata": {},
   "outputs": [],
   "source": [
    "# Display the sanity check video.\n",
    "data_url = to_h264(\"./sanity_check_visualization.mp4\")\n",
    "\n",
    "HTML(\n",
    "    f\"\"\"\n",
    "<video width=800 controls>\n",
    "    <source src=\"{data_url}\" type=\"video/mp4\">\n",
    "</video>\n",
    "\"\"\"\n",
    ")"
   ]
  },
  {
   "cell_type": "code",
   "execution_count": null,
   "id": "716b77eb",
   "metadata": {},
   "outputs": [],
   "source": [
    "# Display the validation footage video.\n",
    "data_url = to_h264(\"./val_split_visualization.mp4\")\n",
    "\n",
    "HTML(\n",
    "    f\"\"\"\n",
    "<video width=800 controls>\n",
    "    <source src=\"{data_url}\" type=\"video/mp4\">\n",
    "</video>\n",
    "\"\"\"\n",
    ")"
   ]
  }
 ],
 "metadata": {
  "kernelspec": {
   "display_name": "py311",
   "language": "python",
   "name": "python3"
  },
  "language_info": {
   "codemirror_mode": {
    "name": "ipython",
    "version": 3
   },
   "file_extension": ".py",
   "mimetype": "text/x-python",
   "name": "python",
   "nbconvert_exporter": "python",
   "pygments_lexer": "ipython3",
   "version": "3.11.0"
  }
 },
 "nbformat": 4,
 "nbformat_minor": 5
}
